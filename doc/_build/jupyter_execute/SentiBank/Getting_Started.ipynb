{
 "cells": [
  {
   "cell_type": "markdown",
   "metadata": {},
   "source": [
    "# Getting Started\n",
    "\n",
    "This section covers installing SentiBank, loading dictionaries, and basic usage."
   ]
  },
  {
   "cell_type": "markdown",
   "metadata": {},
   "source": [
    "```{contents}\n",
    ":local:\n",
    "```"
   ]
  },
  {
   "cell_type": "markdown",
   "metadata": {},
   "source": [
    "## Installation\n",
    "\n",
    "SentiBank can be installed directly from PyPI using pip:\n"
   ]
  },
  {
   "cell_type": "markdown",
   "metadata": {},
   "source": [
    "```\n",
    "pip install sentibank\n",
    "```"
   ]
  },
  {
   "cell_type": "markdown",
   "metadata": {},
   "source": [
    "This will download the latest version and install the necessary dependencies. To upgrade the older version to the latest: "
   ]
  },
  {
   "cell_type": "markdown",
   "metadata": {},
   "source": [
    "```\n",
    "pip install --upgrade sentibank\n",
    "``` "
   ]
  },
  {
   "cell_type": "markdown",
   "metadata": {},
   "source": [
    "## Loading Dictionaries \n",
    "\n",
    "The `sentibank.archive` module provides access to the {NUMBER} curated sentiment dictionaries.\n",
    "\n",
    "To load a preprocessed dictionary in `dict` format:"
   ]
  },
  {
   "cell_type": "code",
   "execution_count": 1,
   "metadata": {},
   "outputs": [],
   "source": [
    "from sentibank import archive\n",
    "\n",
    "load = archive.load()\n",
    "vader = load.dict(\"VADER_v2014\")"
   ]
  },
  {
   "cell_type": "markdown",
   "metadata": {},
   "source": [
    "```{admonition} SentiBank’s predefined lexicon identifiers \n",
    "The predefined lexicon identifiers follow the convention {NAME}_{VERSION} - for example, VADER_v2014. This naming structure indicates the lexicon name and its version for easy recognition and selection. To view the available predefined lexicon identifier, please refer to the list below. \n",
    "```"
   ]
  },
  {
   "cell_type": "markdown",
   "metadata": {},
   "source": [
    "To load the original (unprocessed) dictionary as a Pandas DataFrame:"
   ]
  },
  {
   "cell_type": "code",
   "execution_count": 2,
   "metadata": {},
   "outputs": [],
   "source": [
    "afinn = load.origin(\"AFINN_v2015\")"
   ]
  },
  {
   "cell_type": "markdown",
   "metadata": {},
   "source": [
    "This returns the original AFINN dictionary in `pd.DataFrame` format."
   ]
  },
  {
   "cell_type": "markdown",
   "metadata": {},
   "source": [
    "## Usage Example\n",
    "\n",
    "Here is an example of loading a dictionary, evaluating summary statistics, and extracting lexical insights:"
   ]
  },
  {
   "cell_type": "code",
   "execution_count": 3,
   "metadata": {
    "tags": [
     "hide-output"
    ]
   },
   "outputs": [
    {
     "data": {
      "application/vnd.jupyter.widget-view+json": {
       "model_id": "f5a6c3dfdf3c42a28572c7661ab7d055",
       "version_major": 2,
       "version_minor": 0
      },
      "text/plain": [
       "Output()"
      ]
     },
     "metadata": {},
     "output_type": "display_data"
    },
    {
     "data": {
      "text/html": [
       "<pre style=\"white-space:pre;overflow-x:auto;line-height:normal;font-family:Menlo,'DejaVu Sans Mono',consolas,'Courier New',monospace\"></pre>\n"
      ],
      "text/plain": []
     },
     "metadata": {},
     "output_type": "display_data"
    },
    {
     "data": {
      "text/html": [
       "<pre style=\"white-space:pre;overflow-x:auto;line-height:normal;font-family:Menlo,'DejaVu Sans Mono',consolas,'Courier New',monospace\">\n",
       "</pre>\n"
      ],
      "text/plain": [
       "\n"
      ]
     },
     "metadata": {},
     "output_type": "display_data"
    },
    {
     "data": {
      "application/vnd.jupyter.widget-view+json": {
       "model_id": "caf4b43af15f4e1cb728dd44e7410781",
       "version_major": 2,
       "version_minor": 0
      },
      "text/plain": [
       "Output()"
      ]
     },
     "metadata": {},
     "output_type": "display_data"
    },
    {
     "data": {
      "text/html": [
       "<pre style=\"white-space:pre;overflow-x:auto;line-height:normal;font-family:Menlo,'DejaVu Sans Mono',consolas,'Courier New',monospace\"></pre>\n"
      ],
      "text/plain": []
     },
     "metadata": {},
     "output_type": "display_data"
    },
    {
     "data": {
      "text/html": [
       "<pre style=\"white-space:pre;overflow-x:auto;line-height:normal;font-family:Menlo,'DejaVu Sans Mono',consolas,'Courier New',monospace\">\n",
       "</pre>\n"
      ],
      "text/plain": [
       "\n"
      ]
     },
     "metadata": {},
     "output_type": "display_data"
    },
    {
     "data": {
      "text/html": [
       "<pre style=\"white-space:pre;overflow-x:auto;line-height:normal;font-family:Menlo,'DejaVu Sans Mono',consolas,'Courier New',monospace\"><span style=\"font-weight: bold\">{</span>\n",
       "    <span style=\"color: #008000; text-decoration-color: #008000\">'Dictionary Type'</span>: <span style=\"color: #008000; text-decoration-color: #008000\">'continuous'</span>,\n",
       "    <span style=\"color: #008000; text-decoration-color: #008000\">'Sentiment Score'</span>: <span style=\"font-weight: bold\">{</span>\n",
       "        <span style=\"color: #008000; text-decoration-color: #008000\">'range'</span>: <span style=\"font-weight: bold\">[</span><span style=\"color: #008080; text-decoration-color: #008080; font-weight: bold\">-3.9</span>, <span style=\"color: #008080; text-decoration-color: #008080; font-weight: bold\">3.4</span><span style=\"font-weight: bold\">]</span>,\n",
       "        <span style=\"color: #008000; text-decoration-color: #008000\">'positive'</span>: <span style=\"font-weight: bold\">{</span><span style=\"color: #008000; text-decoration-color: #008000\">'frequency'</span>: <span style=\"color: #008080; text-decoration-color: #008080; font-weight: bold\">3324</span>, <span style=\"color: #008000; text-decoration-color: #008000\">'mean'</span>: <span style=\"color: #008080; text-decoration-color: #008080; font-weight: bold\">1.531</span>, <span style=\"color: #008000; text-decoration-color: #008000\">'median'</span>: <span style=\"color: #008080; text-decoration-color: #008080; font-weight: bold\">1.6</span>, <span style=\"color: #008000; text-decoration-color: #008000\">'mode'</span>: <span style=\"color: #008080; text-decoration-color: #008080; font-weight: bold\">1.6</span>, <span style=\"color: #008000; text-decoration-color: #008000\">'std'</span>: <span style=\"color: #008080; text-decoration-color: #008080; font-weight: bold\">0.729</span><span style=\"font-weight: bold\">}</span>,\n",
       "        <span style=\"color: #008000; text-decoration-color: #008000\">'negative'</span>: <span style=\"font-weight: bold\">{</span><span style=\"color: #008000; text-decoration-color: #008000\">'frequency'</span>: <span style=\"color: #008080; text-decoration-color: #008080; font-weight: bold\">4171</span>, <span style=\"color: #008000; text-decoration-color: #008000\">'mean'</span>: <span style=\"color: #008080; text-decoration-color: #008080; font-weight: bold\">-1.553</span>, <span style=\"color: #008000; text-decoration-color: #008000\">'median'</span>: <span style=\"color: #008080; text-decoration-color: #008080; font-weight: bold\">-1.5</span>, <span style=\"color: #008000; text-decoration-color: #008000\">'mode'</span>: <span style=\"color: #008080; text-decoration-color: #008080; font-weight: bold\">-1.4</span>, <span style=\"color: #008000; text-decoration-color: #008000\">'std'</span>: <span style=\"color: #008080; text-decoration-color: #008080; font-weight: bold\">0.747</span><span style=\"font-weight: bold\">}</span>\n",
       "    <span style=\"font-weight: bold\">}</span>,\n",
       "    <span style=\"color: #008000; text-decoration-color: #008000\">'Sentiment Lexicon'</span>: <span style=\"font-weight: bold\">{</span>\n",
       "        <span style=\"color: #008000; text-decoration-color: #008000\">'general'</span>: <span style=\"font-weight: bold\">{</span>\n",
       "            <span style=\"color: #008000; text-decoration-color: #008000\">'nouns'</span>: <span style=\"color: #008080; text-decoration-color: #008080; font-weight: bold\">3438</span>,\n",
       "            <span style=\"color: #008000; text-decoration-color: #008000\">'verbs'</span>: <span style=\"color: #008080; text-decoration-color: #008080; font-weight: bold\">2113</span>,\n",
       "            <span style=\"color: #008000; text-decoration-color: #008000\">'adjectives'</span>: <span style=\"color: #008080; text-decoration-color: #008080; font-weight: bold\">1009</span>,\n",
       "            <span style=\"color: #008000; text-decoration-color: #008000\">'adverbs'</span>: <span style=\"color: #008080; text-decoration-color: #008080; font-weight: bold\">640</span>,\n",
       "            <span style=\"color: #008000; text-decoration-color: #008000\">'emos'</span>: <span style=\"color: #008080; text-decoration-color: #008080; font-weight: bold\">244</span>,\n",
       "            <span style=\"color: #008000; text-decoration-color: #008000\">'miscellaneous'</span>: <span style=\"color: #008080; text-decoration-color: #008080; font-weight: bold\">58</span>,\n",
       "            <span style=\"color: #008000; text-decoration-color: #008000\">'prepositions'</span>: <span style=\"color: #008080; text-decoration-color: #008080; font-weight: bold\">14</span>,\n",
       "            <span style=\"color: #008000; text-decoration-color: #008000\">'numerals'</span>: <span style=\"color: #008080; text-decoration-color: #008080; font-weight: bold\">10</span>,\n",
       "            <span style=\"color: #008000; text-decoration-color: #008000\">'determiners'</span>: <span style=\"color: #008080; text-decoration-color: #008080; font-weight: bold\">2</span>,\n",
       "            <span style=\"color: #008000; text-decoration-color: #008000\">'particles'</span>: <span style=\"color: #008080; text-decoration-color: #008080; font-weight: bold\">2</span>,\n",
       "            <span style=\"color: #008000; text-decoration-color: #008000\">'pronouns'</span>: <span style=\"color: #008080; text-decoration-color: #008080; font-weight: bold\">1</span>,\n",
       "            <span style=\"color: #008000; text-decoration-color: #008000\">'conjunctions'</span>: <span style=\"color: #008080; text-decoration-color: #008080; font-weight: bold\">0</span>\n",
       "        <span style=\"font-weight: bold\">}</span>,\n",
       "        <span style=\"color: #008000; text-decoration-color: #008000\">'granular'</span>: <span style=\"font-weight: bold\">{</span>\n",
       "            <span style=\"color: #008000; text-decoration-color: #008000\">'NN (noun, singular or mass)'</span>: <span style=\"color: #008080; text-decoration-color: #008080; font-weight: bold\">1633</span>,\n",
       "            <span style=\"color: #008000; text-decoration-color: #008000\">'NNS (noun, plural)'</span>: <span style=\"color: #008080; text-decoration-color: #008080; font-weight: bold\">1387</span>,\n",
       "            <span style=\"color: #008000; text-decoration-color: #008000\">'JJ (adjective (English), other noun-modifier (Chinese))'</span>: <span style=\"color: #008080; text-decoration-color: #008080; font-weight: bold\">873</span>,\n",
       "            <span style=\"color: #008000; text-decoration-color: #008000\">'RB (adverb)'</span>: <span style=\"color: #008080; text-decoration-color: #008080; font-weight: bold\">614</span>,\n",
       "            <span style=\"color: #008000; text-decoration-color: #008000\">'VB (verb, base form)'</span>: <span style=\"color: #008080; text-decoration-color: #008080; font-weight: bold\">596</span>,\n",
       "            <span style=\"color: #008000; text-decoration-color: #008000\">'VBG (verb, gerund or present participle)'</span>: <span style=\"color: #008080; text-decoration-color: #008080; font-weight: bold\">536</span>,\n",
       "            <span style=\"color: #008000; text-decoration-color: #008000\">'VBD (verb, past tense)'</span>: <span style=\"color: #008080; text-decoration-color: #008080; font-weight: bold\">509</span>,\n",
       "            <span style=\"color: #008000; text-decoration-color: #008000\">'NNP (noun, proper singular)'</span>: <span style=\"color: #008080; text-decoration-color: #008080; font-weight: bold\">418</span>,\n",
       "            <span style=\"color: #008000; text-decoration-color: #008000\">'VBZ (verb, 3rd person singular present)'</span>: <span style=\"color: #008080; text-decoration-color: #008080; font-weight: bold\">255</span>,\n",
       "            <span style=\"color: #008000; text-decoration-color: #008000\">'EMOTICON (textual representations of emotions)'</span>: <span style=\"color: #008080; text-decoration-color: #008080; font-weight: bold\">244</span>,\n",
       "            <span style=\"color: #008000; text-decoration-color: #008000\">'VBN (verb, past participle)'</span>: <span style=\"color: #008080; text-decoration-color: #008080; font-weight: bold\">190</span>,\n",
       "            <span style=\"color: #008000; text-decoration-color: #008000\">'JJS (adjective, superlative)'</span>: <span style=\"color: #008080; text-decoration-color: #008080; font-weight: bold\">89</span>,\n",
       "            <span style=\"color: #008000; text-decoration-color: #008000\">'JJR (adjective, comparative)'</span>: <span style=\"color: #008080; text-decoration-color: #008080; font-weight: bold\">47</span>,\n",
       "            <span style=\"color: #008000; text-decoration-color: #008000\">'UH (interjection)'</span>: <span style=\"color: #008080; text-decoration-color: #008080; font-weight: bold\">29</span>,\n",
       "            <span style=\"color: #008000; text-decoration-color: #008000\">'VBP (verb, non-3rd person singular present)'</span>: <span style=\"color: #008080; text-decoration-color: #008080; font-weight: bold\">27</span>,\n",
       "            <span style=\"color: #008000; text-decoration-color: #008000\">'RBR (adverb, comparative)'</span>: <span style=\"color: #008080; text-decoration-color: #008080; font-weight: bold\">22</span>,\n",
       "            <span style=\"color: #008000; text-decoration-color: #008000\">'IN (conjunction, subordinating or preposition)'</span>: <span style=\"color: #008080; text-decoration-color: #008080; font-weight: bold\">14</span>,\n",
       "            <span style=\"color: #008000; text-decoration-color: #008000\">'CD (cardinal number)'</span>: <span style=\"color: #008080; text-decoration-color: #008080; font-weight: bold\">10</span>,\n",
       "            <span style=\"color: #008000; text-decoration-color: #008000\">'HYPH (punctuation mark, hyphen)'</span>: <span style=\"color: #008080; text-decoration-color: #008080; font-weight: bold\">10</span>,\n",
       "            <span style=\"color: #008000; text-decoration-color: #008000\">'. (punctuation mark, sentence closer)'</span>: <span style=\"color: #008080; text-decoration-color: #008080; font-weight: bold\">5</span>,\n",
       "            <span style=\"color: #008000; text-decoration-color: #008000\">'SYM (symbol)'</span>: <span style=\"color: #008080; text-decoration-color: #008080; font-weight: bold\">5</span>,\n",
       "            <span style=\"color: #008000; text-decoration-color: #008000\">'FW (foreign word)'</span>: <span style=\"color: #008080; text-decoration-color: #008080; font-weight: bold\">5</span>,\n",
       "            <span style=\"color: #008000; text-decoration-color: #008000\">'RBS (adverb, superlative)'</span>: <span style=\"color: #008080; text-decoration-color: #008080; font-weight: bold\">4</span>,\n",
       "            <span style=\"color: #008000; text-decoration-color: #008000\">'RP (adverb, particle)'</span>: <span style=\"color: #008080; text-decoration-color: #008080; font-weight: bold\">2</span>,\n",
       "            <span style=\"color: #008000; text-decoration-color: #008000\">'DT (determiner)'</span>: <span style=\"color: #008080; text-decoration-color: #008080; font-weight: bold\">2</span>,\n",
       "            <span style=\"color: #008000; text-decoration-color: #008000\">'PRP (pronoun, personal)'</span>: <span style=\"color: #008080; text-decoration-color: #008080; font-weight: bold\">1</span>,\n",
       "            <span style=\"color: #008000; text-decoration-color: #008000\">'LS (list item marker)'</span>: <span style=\"color: #008080; text-decoration-color: #008080; font-weight: bold\">1</span>,\n",
       "            <span style=\"color: #008000; text-decoration-color: #008000\">'MD (verb, modal auxiliary)'</span>: <span style=\"color: #008080; text-decoration-color: #008080; font-weight: bold\">1</span>,\n",
       "            <span style=\"color: #008000; text-decoration-color: #008000\">'XX (unknown)'</span>: <span style=\"color: #008080; text-decoration-color: #008080; font-weight: bold\">1</span>,\n",
       "            <span style=\"color: #008000; text-decoration-color: #008000\">'ADD (email)'</span>: <span style=\"color: #008080; text-decoration-color: #008080; font-weight: bold\">1</span>\n",
       "        <span style=\"font-weight: bold\">}</span>,\n",
       "        <span style=\"color: #008000; text-decoration-color: #008000\">'misc'</span>: <span style=\"font-weight: bold\">[</span><span style=\"color: #008000; text-decoration-color: #008000\">'UH'</span>, <span style=\"color: #008000; text-decoration-color: #008000\">'.'</span>, <span style=\"color: #008000; text-decoration-color: #008000\">'SYM'</span>, <span style=\"color: #008000; text-decoration-color: #008000\">'FW'</span>, <span style=\"color: #008000; text-decoration-color: #008000\">'LS'</span>, <span style=\"color: #008000; text-decoration-color: #008000\">'MD'</span>, <span style=\"color: #008000; text-decoration-color: #008000\">'HYPH'</span>, <span style=\"color: #008000; text-decoration-color: #008000\">'XX'</span>, <span style=\"color: #008000; text-decoration-color: #008000\">'ADD'</span><span style=\"font-weight: bold\">]</span>\n",
       "    <span style=\"font-weight: bold\">}</span>\n",
       "<span style=\"font-weight: bold\">}</span>\n",
       "</pre>\n"
      ],
      "text/plain": [
       "\u001b[1m{\u001b[0m\n",
       "    \u001b[32m'Dictionary Type'\u001b[0m: \u001b[32m'continuous'\u001b[0m,\n",
       "    \u001b[32m'Sentiment Score'\u001b[0m: \u001b[1m{\u001b[0m\n",
       "        \u001b[32m'range'\u001b[0m: \u001b[1m[\u001b[0m\u001b[1;36m-3.9\u001b[0m, \u001b[1;36m3.4\u001b[0m\u001b[1m]\u001b[0m,\n",
       "        \u001b[32m'positive'\u001b[0m: \u001b[1m{\u001b[0m\u001b[32m'frequency'\u001b[0m: \u001b[1;36m3324\u001b[0m, \u001b[32m'mean'\u001b[0m: \u001b[1;36m1.531\u001b[0m, \u001b[32m'median'\u001b[0m: \u001b[1;36m1.6\u001b[0m, \u001b[32m'mode'\u001b[0m: \u001b[1;36m1.6\u001b[0m, \u001b[32m'std'\u001b[0m: \u001b[1;36m0.729\u001b[0m\u001b[1m}\u001b[0m,\n",
       "        \u001b[32m'negative'\u001b[0m: \u001b[1m{\u001b[0m\u001b[32m'frequency'\u001b[0m: \u001b[1;36m4171\u001b[0m, \u001b[32m'mean'\u001b[0m: \u001b[1;36m-1.553\u001b[0m, \u001b[32m'median'\u001b[0m: \u001b[1;36m-1.5\u001b[0m, \u001b[32m'mode'\u001b[0m: \u001b[1;36m-1.4\u001b[0m, \u001b[32m'std'\u001b[0m: \u001b[1;36m0.747\u001b[0m\u001b[1m}\u001b[0m\n",
       "    \u001b[1m}\u001b[0m,\n",
       "    \u001b[32m'Sentiment Lexicon'\u001b[0m: \u001b[1m{\u001b[0m\n",
       "        \u001b[32m'general'\u001b[0m: \u001b[1m{\u001b[0m\n",
       "            \u001b[32m'nouns'\u001b[0m: \u001b[1;36m3438\u001b[0m,\n",
       "            \u001b[32m'verbs'\u001b[0m: \u001b[1;36m2113\u001b[0m,\n",
       "            \u001b[32m'adjectives'\u001b[0m: \u001b[1;36m1009\u001b[0m,\n",
       "            \u001b[32m'adverbs'\u001b[0m: \u001b[1;36m640\u001b[0m,\n",
       "            \u001b[32m'emos'\u001b[0m: \u001b[1;36m244\u001b[0m,\n",
       "            \u001b[32m'miscellaneous'\u001b[0m: \u001b[1;36m58\u001b[0m,\n",
       "            \u001b[32m'prepositions'\u001b[0m: \u001b[1;36m14\u001b[0m,\n",
       "            \u001b[32m'numerals'\u001b[0m: \u001b[1;36m10\u001b[0m,\n",
       "            \u001b[32m'determiners'\u001b[0m: \u001b[1;36m2\u001b[0m,\n",
       "            \u001b[32m'particles'\u001b[0m: \u001b[1;36m2\u001b[0m,\n",
       "            \u001b[32m'pronouns'\u001b[0m: \u001b[1;36m1\u001b[0m,\n",
       "            \u001b[32m'conjunctions'\u001b[0m: \u001b[1;36m0\u001b[0m\n",
       "        \u001b[1m}\u001b[0m,\n",
       "        \u001b[32m'granular'\u001b[0m: \u001b[1m{\u001b[0m\n",
       "            \u001b[32m'NN \u001b[0m\u001b[32m(\u001b[0m\u001b[32mnoun, singular or mass\u001b[0m\u001b[32m)\u001b[0m\u001b[32m'\u001b[0m: \u001b[1;36m1633\u001b[0m,\n",
       "            \u001b[32m'NNS \u001b[0m\u001b[32m(\u001b[0m\u001b[32mnoun, plural\u001b[0m\u001b[32m)\u001b[0m\u001b[32m'\u001b[0m: \u001b[1;36m1387\u001b[0m,\n",
       "            \u001b[32m'JJ \u001b[0m\u001b[32m(\u001b[0m\u001b[32madjective \u001b[0m\u001b[32m(\u001b[0m\u001b[32mEnglish\u001b[0m\u001b[32m)\u001b[0m\u001b[32m, other noun-modifier \u001b[0m\u001b[32m(\u001b[0m\u001b[32mChinese\u001b[0m\u001b[32m)\u001b[0m\u001b[32m)\u001b[0m\u001b[32m'\u001b[0m: \u001b[1;36m873\u001b[0m,\n",
       "            \u001b[32m'RB \u001b[0m\u001b[32m(\u001b[0m\u001b[32madverb\u001b[0m\u001b[32m)\u001b[0m\u001b[32m'\u001b[0m: \u001b[1;36m614\u001b[0m,\n",
       "            \u001b[32m'VB \u001b[0m\u001b[32m(\u001b[0m\u001b[32mverb, base form\u001b[0m\u001b[32m)\u001b[0m\u001b[32m'\u001b[0m: \u001b[1;36m596\u001b[0m,\n",
       "            \u001b[32m'VBG \u001b[0m\u001b[32m(\u001b[0m\u001b[32mverb, gerund or present participle\u001b[0m\u001b[32m)\u001b[0m\u001b[32m'\u001b[0m: \u001b[1;36m536\u001b[0m,\n",
       "            \u001b[32m'VBD \u001b[0m\u001b[32m(\u001b[0m\u001b[32mverb, past tense\u001b[0m\u001b[32m)\u001b[0m\u001b[32m'\u001b[0m: \u001b[1;36m509\u001b[0m,\n",
       "            \u001b[32m'NNP \u001b[0m\u001b[32m(\u001b[0m\u001b[32mnoun, proper singular\u001b[0m\u001b[32m)\u001b[0m\u001b[32m'\u001b[0m: \u001b[1;36m418\u001b[0m,\n",
       "            \u001b[32m'VBZ \u001b[0m\u001b[32m(\u001b[0m\u001b[32mverb, 3rd person singular present\u001b[0m\u001b[32m)\u001b[0m\u001b[32m'\u001b[0m: \u001b[1;36m255\u001b[0m,\n",
       "            \u001b[32m'EMOTICON \u001b[0m\u001b[32m(\u001b[0m\u001b[32mtextual representations of emotions\u001b[0m\u001b[32m)\u001b[0m\u001b[32m'\u001b[0m: \u001b[1;36m244\u001b[0m,\n",
       "            \u001b[32m'VBN \u001b[0m\u001b[32m(\u001b[0m\u001b[32mverb, past participle\u001b[0m\u001b[32m)\u001b[0m\u001b[32m'\u001b[0m: \u001b[1;36m190\u001b[0m,\n",
       "            \u001b[32m'JJS \u001b[0m\u001b[32m(\u001b[0m\u001b[32madjective, superlative\u001b[0m\u001b[32m)\u001b[0m\u001b[32m'\u001b[0m: \u001b[1;36m89\u001b[0m,\n",
       "            \u001b[32m'JJR \u001b[0m\u001b[32m(\u001b[0m\u001b[32madjective, comparative\u001b[0m\u001b[32m)\u001b[0m\u001b[32m'\u001b[0m: \u001b[1;36m47\u001b[0m,\n",
       "            \u001b[32m'UH \u001b[0m\u001b[32m(\u001b[0m\u001b[32minterjection\u001b[0m\u001b[32m)\u001b[0m\u001b[32m'\u001b[0m: \u001b[1;36m29\u001b[0m,\n",
       "            \u001b[32m'VBP \u001b[0m\u001b[32m(\u001b[0m\u001b[32mverb, non-3rd person singular present\u001b[0m\u001b[32m)\u001b[0m\u001b[32m'\u001b[0m: \u001b[1;36m27\u001b[0m,\n",
       "            \u001b[32m'RBR \u001b[0m\u001b[32m(\u001b[0m\u001b[32madverb, comparative\u001b[0m\u001b[32m)\u001b[0m\u001b[32m'\u001b[0m: \u001b[1;36m22\u001b[0m,\n",
       "            \u001b[32m'IN \u001b[0m\u001b[32m(\u001b[0m\u001b[32mconjunction, subordinating or preposition\u001b[0m\u001b[32m)\u001b[0m\u001b[32m'\u001b[0m: \u001b[1;36m14\u001b[0m,\n",
       "            \u001b[32m'CD \u001b[0m\u001b[32m(\u001b[0m\u001b[32mcardinal number\u001b[0m\u001b[32m)\u001b[0m\u001b[32m'\u001b[0m: \u001b[1;36m10\u001b[0m,\n",
       "            \u001b[32m'HYPH \u001b[0m\u001b[32m(\u001b[0m\u001b[32mpunctuation mark, hyphen\u001b[0m\u001b[32m)\u001b[0m\u001b[32m'\u001b[0m: \u001b[1;36m10\u001b[0m,\n",
       "            \u001b[32m'. \u001b[0m\u001b[32m(\u001b[0m\u001b[32mpunctuation mark, sentence closer\u001b[0m\u001b[32m)\u001b[0m\u001b[32m'\u001b[0m: \u001b[1;36m5\u001b[0m,\n",
       "            \u001b[32m'SYM \u001b[0m\u001b[32m(\u001b[0m\u001b[32msymbol\u001b[0m\u001b[32m)\u001b[0m\u001b[32m'\u001b[0m: \u001b[1;36m5\u001b[0m,\n",
       "            \u001b[32m'FW \u001b[0m\u001b[32m(\u001b[0m\u001b[32mforeign word\u001b[0m\u001b[32m)\u001b[0m\u001b[32m'\u001b[0m: \u001b[1;36m5\u001b[0m,\n",
       "            \u001b[32m'RBS \u001b[0m\u001b[32m(\u001b[0m\u001b[32madverb, superlative\u001b[0m\u001b[32m)\u001b[0m\u001b[32m'\u001b[0m: \u001b[1;36m4\u001b[0m,\n",
       "            \u001b[32m'RP \u001b[0m\u001b[32m(\u001b[0m\u001b[32madverb, particle\u001b[0m\u001b[32m)\u001b[0m\u001b[32m'\u001b[0m: \u001b[1;36m2\u001b[0m,\n",
       "            \u001b[32m'DT \u001b[0m\u001b[32m(\u001b[0m\u001b[32mdeterminer\u001b[0m\u001b[32m)\u001b[0m\u001b[32m'\u001b[0m: \u001b[1;36m2\u001b[0m,\n",
       "            \u001b[32m'PRP \u001b[0m\u001b[32m(\u001b[0m\u001b[32mpronoun, personal\u001b[0m\u001b[32m)\u001b[0m\u001b[32m'\u001b[0m: \u001b[1;36m1\u001b[0m,\n",
       "            \u001b[32m'LS \u001b[0m\u001b[32m(\u001b[0m\u001b[32mlist item marker\u001b[0m\u001b[32m)\u001b[0m\u001b[32m'\u001b[0m: \u001b[1;36m1\u001b[0m,\n",
       "            \u001b[32m'MD \u001b[0m\u001b[32m(\u001b[0m\u001b[32mverb, modal auxiliary\u001b[0m\u001b[32m)\u001b[0m\u001b[32m'\u001b[0m: \u001b[1;36m1\u001b[0m,\n",
       "            \u001b[32m'XX \u001b[0m\u001b[32m(\u001b[0m\u001b[32munknown\u001b[0m\u001b[32m)\u001b[0m\u001b[32m'\u001b[0m: \u001b[1;36m1\u001b[0m,\n",
       "            \u001b[32m'ADD \u001b[0m\u001b[32m(\u001b[0m\u001b[32memail\u001b[0m\u001b[32m)\u001b[0m\u001b[32m'\u001b[0m: \u001b[1;36m1\u001b[0m\n",
       "        \u001b[1m}\u001b[0m,\n",
       "        \u001b[32m'misc'\u001b[0m: \u001b[1m[\u001b[0m\u001b[32m'UH'\u001b[0m, \u001b[32m'.'\u001b[0m, \u001b[32m'SYM'\u001b[0m, \u001b[32m'FW'\u001b[0m, \u001b[32m'LS'\u001b[0m, \u001b[32m'MD'\u001b[0m, \u001b[32m'HYPH'\u001b[0m, \u001b[32m'XX'\u001b[0m, \u001b[32m'ADD'\u001b[0m\u001b[1m]\u001b[0m\n",
       "    \u001b[1m}\u001b[0m\n",
       "\u001b[1m}\u001b[0m\n"
      ]
     },
     "metadata": {},
     "output_type": "display_data"
    },
    {
     "data": {
      "text/plain": [
       "<sentibank.utils.lexical_overview at 0x17500431580>"
      ]
     },
     "execution_count": 3,
     "metadata": {},
     "output_type": "execute_result"
    }
   ],
   "source": [
    "from sentibank import archive\n",
    "from sentibank.utils import lexical_overview\n",
    "\n",
    "load = archive.load()\n",
    "vader = load.dict(\"VADER_v2014\")\n",
    "\n",
    "lexical_overview(vader)\n"
   ]
  },
  {
   "cell_type": "markdown",
   "metadata": {},
   "source": [
    "This would print the sentiment score distribution and lexical breakdown of the VADER dictionary.\n",
    "\n",
    "The `lexical_overview` function provides a quick way to summarise key metadata from a dictionary. "
   ]
  },
  {
   "cell_type": "markdown",
   "metadata": {},
   "source": [
    "`````{admonition} Utilising lexical_overview\n",
    ":class: tip \n",
    "\n",
    "The `lexical_overview` covers both holistic sentiment statistics as well as detailed lexical category analysis. Together these provide both the forest and the trees - from overall sentiment trends down to word type composition:\n",
    "\n",
    " - **Dictionary Type**: Indicates if the sentiment is measured via labels (discrete/categorical) or scores (continuous). The type includes `categorical`, `discrete`, `continuous`, `categorical (multi-label)`, and `discrete (multi-label)`. \n",
    "\n",
    " - **Sentiment Score**: Distribution statistics of sentiment labels or scores. For labels, it summarises the frequency of labels within the dictionary. For scores, it summarises the overall  sentiment distribution, such as frequency, mean, median, range, and standard deviation. \n",
    "\n",
    " - **Sentiment Lexicon**: Breaks down lexicon by its Parts-of Speech (POS). Provides frequency counts for categories like nouns, adjectives, verbs, emoticons, and more. Useful for understanding lexicon composition.\n",
    "\t- **General POS Tags**: A general overview of POS tags using simplified [Universal POS tagging system](https://universaldependencies.org/u/pos/) influenced by [NLTK](https://www.nltk.org/book/ch05.html). Includes `adjectives`,  `adverbs`, `conjunctions`, `determiners`, `emos` (emoticons and emojis), `nouns`, `numerals`, `particles`, `prepositions`, `pronouns`, `verbs`,  `miscellaneous`.     \n",
    "\t- **Granular POS Tags**: More fine-grained lexical breakdown using [OntoNotes(ver5.0)](https://catalog.ldc.upenn.edu/LDC2013T19) tagging system. Includes singular/plural nouns, comparative/superlative adjectives, verb tenses, and more. Enables deeper lexical analysis.\n",
    " \t- **Miscellaneous POS**: Catches any rare or unknown Part-of-Speech tags for completeness.\n",
    "`````"
   ]
  },
  {
   "cell_type": "markdown",
   "metadata": {},
   "source": [
    "```{warning} \n",
    "Please note that the input for `lexical_overview` must be a *processed dictionary*, loaded with `sentibank.archive.load.dict`. \n",
    "``` "
   ]
  },
  {
   "cell_type": "markdown",
   "metadata": {},
   "source": [
    "```{note}\n",
    "We are currently working on `lexical_overview` to handle abbreviations and n-grams.  \n",
    "```"
   ]
  },
  {
   "cell_type": "markdown",
   "metadata": {},
   "source": [
    "## Available Dictionaries"
   ]
  },
  {
   "cell_type": "markdown",
   "metadata": {},
   "source": []
  }
 ],
 "metadata": {
  "kernelspec": {
   "display_name": "base",
   "language": "python",
   "name": "python3"
  },
  "language_info": {
   "codemirror_mode": {
    "name": "ipython",
    "version": 3
   },
   "file_extension": ".py",
   "mimetype": "text/x-python",
   "name": "python",
   "nbconvert_exporter": "python",
   "pygments_lexer": "ipython3",
   "version": "3.9.12"
  },
  "widgets": {
   "application/vnd.jupyter.widget-state+json": {
    "state": {
     "caf4b43af15f4e1cb728dd44e7410781": {
      "model_module": "@jupyter-widgets/output",
      "model_module_version": "1.0.0",
      "model_name": "OutputModel",
      "state": {
       "_dom_classes": [],
       "_model_module": "@jupyter-widgets/output",
       "_model_module_version": "1.0.0",
       "_model_name": "OutputModel",
       "_view_count": null,
       "_view_module": "@jupyter-widgets/output",
       "_view_module_version": "1.0.0",
       "_view_name": "OutputView",
       "layout": "IPY_MODEL_f8090eef216c4d3183d6991b04b55fc2",
       "msg_id": "",
       "outputs": [
        {
         "data": {
          "text/html": "<pre style=\"white-space:pre;overflow-x:auto;line-height:normal;font-family:Menlo,'DejaVu Sans Mono',consolas,'Courier New',monospace\">Extracting Summary Insights from Sentiment Lexicons <span style=\"color: #729c1f; text-decoration-color: #729c1f\">━━━━━━━━━━━━━━━━━━━━━━━━━━━━━━━━━━━━━━━━</span> <span style=\"color: #800080; text-decoration-color: #800080\">100%</span> <span style=\"color: #808000; text-decoration-color: #808000\">0:00:05</span>\n</pre>\n",
          "text/plain": "Extracting Summary Insights from Sentiment Lexicons \u001b[38;2;114;156;31m━━━━━━━━━━━━━━━━━━━━━━━━━━━━━━━━━━━━━━━━\u001b[0m \u001b[35m100%\u001b[0m \u001b[33m0:00:05\u001b[0m\n"
         },
         "metadata": {},
         "output_type": "display_data"
        }
       ]
      }
     },
     "d1d110b87d6a4a238a1fae9cdc9ca1d9": {
      "model_module": "@jupyter-widgets/base",
      "model_module_version": "1.2.0",
      "model_name": "LayoutModel",
      "state": {
       "_model_module": "@jupyter-widgets/base",
       "_model_module_version": "1.2.0",
       "_model_name": "LayoutModel",
       "_view_count": null,
       "_view_module": "@jupyter-widgets/base",
       "_view_module_version": "1.2.0",
       "_view_name": "LayoutView",
       "align_content": null,
       "align_items": null,
       "align_self": null,
       "border": null,
       "bottom": null,
       "display": null,
       "flex": null,
       "flex_flow": null,
       "grid_area": null,
       "grid_auto_columns": null,
       "grid_auto_flow": null,
       "grid_auto_rows": null,
       "grid_column": null,
       "grid_gap": null,
       "grid_row": null,
       "grid_template_areas": null,
       "grid_template_columns": null,
       "grid_template_rows": null,
       "height": null,
       "justify_content": null,
       "justify_items": null,
       "left": null,
       "margin": null,
       "max_height": null,
       "max_width": null,
       "min_height": null,
       "min_width": null,
       "object_fit": null,
       "object_position": null,
       "order": null,
       "overflow": null,
       "overflow_x": null,
       "overflow_y": null,
       "padding": null,
       "right": null,
       "top": null,
       "visibility": null,
       "width": null
      }
     },
     "f5a6c3dfdf3c42a28572c7661ab7d055": {
      "model_module": "@jupyter-widgets/output",
      "model_module_version": "1.0.0",
      "model_name": "OutputModel",
      "state": {
       "_dom_classes": [],
       "_model_module": "@jupyter-widgets/output",
       "_model_module_version": "1.0.0",
       "_model_name": "OutputModel",
       "_view_count": null,
       "_view_module": "@jupyter-widgets/output",
       "_view_module_version": "1.0.0",
       "_view_name": "OutputView",
       "layout": "IPY_MODEL_d1d110b87d6a4a238a1fae9cdc9ca1d9",
       "msg_id": "",
       "outputs": [
        {
         "data": {
          "text/html": "<pre style=\"white-space:pre;overflow-x:auto;line-height:normal;font-family:Menlo,'DejaVu Sans Mono',consolas,'Courier New',monospace\">Computing Summary Statistics of Sentiment Scores <span style=\"color: #729c1f; text-decoration-color: #729c1f\">━━━━━━━━━━━━━━━━━━━━━━━━━━━━━━━━━━━━━━━━</span> <span style=\"color: #800080; text-decoration-color: #800080\">100%</span> <span style=\"color: #808000; text-decoration-color: #808000\">0:00:00</span>\n</pre>\n",
          "text/plain": "Computing Summary Statistics of Sentiment Scores \u001b[38;2;114;156;31m━━━━━━━━━━━━━━━━━━━━━━━━━━━━━━━━━━━━━━━━\u001b[0m \u001b[35m100%\u001b[0m \u001b[33m0:00:00\u001b[0m\n"
         },
         "metadata": {},
         "output_type": "display_data"
        }
       ]
      }
     },
     "f8090eef216c4d3183d6991b04b55fc2": {
      "model_module": "@jupyter-widgets/base",
      "model_module_version": "1.2.0",
      "model_name": "LayoutModel",
      "state": {
       "_model_module": "@jupyter-widgets/base",
       "_model_module_version": "1.2.0",
       "_model_name": "LayoutModel",
       "_view_count": null,
       "_view_module": "@jupyter-widgets/base",
       "_view_module_version": "1.2.0",
       "_view_name": "LayoutView",
       "align_content": null,
       "align_items": null,
       "align_self": null,
       "border": null,
       "bottom": null,
       "display": null,
       "flex": null,
       "flex_flow": null,
       "grid_area": null,
       "grid_auto_columns": null,
       "grid_auto_flow": null,
       "grid_auto_rows": null,
       "grid_column": null,
       "grid_gap": null,
       "grid_row": null,
       "grid_template_areas": null,
       "grid_template_columns": null,
       "grid_template_rows": null,
       "height": null,
       "justify_content": null,
       "justify_items": null,
       "left": null,
       "margin": null,
       "max_height": null,
       "max_width": null,
       "min_height": null,
       "min_width": null,
       "object_fit": null,
       "object_position": null,
       "order": null,
       "overflow": null,
       "overflow_x": null,
       "overflow_y": null,
       "padding": null,
       "right": null,
       "top": null,
       "visibility": null,
       "width": null
      }
     }
    },
    "version_major": 2,
    "version_minor": 0
   }
  }
 },
 "nbformat": 4,
 "nbformat_minor": 2
}